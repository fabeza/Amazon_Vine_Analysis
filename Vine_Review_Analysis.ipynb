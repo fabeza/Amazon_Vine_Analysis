{
  "nbformat": 4,
  "nbformat_minor": 0,
  "metadata": {
    "colab": {
      "provenance": []
    },
    "kernelspec": {
      "name": "python3",
      "display_name": "Python 3"
    },
    "language_info": {
      "name": "python"
    }
  },
  "cells": [
    {
      "cell_type": "code",
      "execution_count": 1,
      "metadata": {
        "colab": {
          "base_uri": "https://localhost:8080/"
        },
        "id": "AgNnfH5NO6vA",
        "outputId": "599bfae1-8de0-4320-dced-044851b96fe0"
      },
      "outputs": [
        {
          "output_type": "stream",
          "name": "stdout",
          "text": [
            "Get:1 https://cloud.r-project.org/bin/linux/ubuntu focal-cran40/ InRelease [3,622 B]\n",
            "Ign:2 https://developer.download.nvidia.com/compute/machine-learning/repos/ubuntu2004/x86_64  InRelease\n",
            "Hit:3 https://developer.download.nvidia.com/compute/cuda/repos/ubuntu2004/x86_64  InRelease\n",
            "Get:4 http://security.ubuntu.com/ubuntu focal-security InRelease [114 kB]\n",
            "Hit:5 https://developer.download.nvidia.com/compute/machine-learning/repos/ubuntu2004/x86_64  Release\n",
            "Hit:6 http://archive.ubuntu.com/ubuntu focal InRelease\n",
            "Hit:7 http://ppa.launchpad.net/c2d4u.team/c2d4u4.0+/ubuntu focal InRelease\n",
            "Get:8 http://archive.ubuntu.com/ubuntu focal-updates InRelease [114 kB]\n",
            "Hit:9 http://ppa.launchpad.net/cran/libgit2/ubuntu focal InRelease\n",
            "Get:11 http://ppa.launchpad.net/deadsnakes/ppa/ubuntu focal InRelease [18.1 kB]\n",
            "Get:12 http://archive.ubuntu.com/ubuntu focal-backports InRelease [108 kB]\n",
            "Hit:13 http://ppa.launchpad.net/graphics-drivers/ppa/ubuntu focal InRelease\n",
            "Get:14 http://security.ubuntu.com/ubuntu focal-security/main amd64 Packages [2,479 kB]\n",
            "Get:15 http://archive.ubuntu.com/ubuntu focal-updates/universe amd64 Packages [1,295 kB]\n",
            "Get:16 http://archive.ubuntu.com/ubuntu focal-updates/restricted amd64 Packages [2,050 kB]\n",
            "Get:17 http://archive.ubuntu.com/ubuntu focal-updates/main amd64 Packages [2,952 kB]\n",
            "Fetched 9,133 kB in 4s (2,451 kB/s)\n",
            "Reading package lists... Done\n"
          ]
        }
      ],
      "source": [
        "import os\n",
        "# Find the latest version of spark 3.0  from http://www.apache.org/dist/spark/ and enter as the spark version\n",
        "# For example:\n",
        "# spark_version = 'spark-3.3.1'\n",
        "spark_version = 'spark-3.3.1'\n",
        "os.environ['SPARK_VERSION']=spark_version\n",
        "\n",
        "# Install Spark and Java\n",
        "!apt-get update\n",
        "!apt-get install openjdk-11-jdk-headless -qq > /dev/null\n",
        "!wget -q https://downloads.apache.org/spark/spark-3.3.1/spark-3.3.1-bin-hadoop2.tgz\n",
        "!tar xf spark-3.3.1-bin-hadoop2.tgz\n",
        "!pip install -q findspark\n",
        "\n",
        "# Set Environment Variables\n",
        "import os\n",
        "os.environ[\"JAVA_HOME\"] = \"/usr/lib/jvm/java-11-openjdk-amd64\"\n",
        "os.environ[\"SPARK_HOME\"] = f\"/content/{spark_version}-bin-hadoop2\"\n",
        "\n",
        "# Start a SparkSession\n",
        "import findspark\n",
        "findspark.init()"
      ]
    },
    {
      "cell_type": "code",
      "source": [
        "# Start Spark session\n",
        "from pyspark.sql import SparkSession\n",
        "spark = SparkSession.builder.appName(\"vine_review_analysis\").getOrCreate()"
      ],
      "metadata": {
        "id": "kyrInN7mPVCh"
      },
      "execution_count": 2,
      "outputs": []
    },
    {
      "cell_type": "code",
      "source": [
        "# Read in data\n",
        "from pyspark import SparkFiles\n",
        "url = \"https://s3.amazonaws.com/amazon-reviews-pds/tsv/amazon_reviews_us_Beauty_v1_00.tsv.gz\"\n",
        "spark.sparkContext.addFile(url)\n",
        "df = spark.read.option(\"encoding\", \"UTF-8\").csv(SparkFiles.get(\"\"), sep=\"\\t\", header=True, inferSchema=True)\n",
        "df.show()"
      ],
      "metadata": {
        "colab": {
          "base_uri": "https://localhost:8080/"
        },
        "id": "cGfb7NbOPa9B",
        "outputId": "b4974568-cd4a-4b68-dd43-fe983240a3d2"
      },
      "execution_count": 3,
      "outputs": [
        {
          "output_type": "stream",
          "name": "stdout",
          "text": [
            "+-----------+-----------+--------------+----------+--------------+--------------------+----------------+-----------+-------------+-----------+----+-----------------+--------------------+---------------------+-------------------+\n",
            "|marketplace|customer_id|     review_id|product_id|product_parent|       product_title|product_category|star_rating|helpful_votes|total_votes|vine|verified_purchase|     review_headline|          review_body|        review_date|\n",
            "+-----------+-----------+--------------+----------+--------------+--------------------+----------------+-----------+-------------+-----------+----+-----------------+--------------------+---------------------+-------------------+\n",
            "|         US|    1797882|R3I2DHQBR577SS|B001ANOOOE|       2102612|The Naked Bee Vit...|          Beauty|          5|            0|          0|   N|                Y|          Five Stars| Love this, excell...|2015-08-31 00:00:00|\n",
            "|         US|   18381298|R1QNE9NQFJC2Y4|B0016J22EQ|     106393691|Alba Botanica Sun...|          Beauty|          5|            0|          0|   N|                Y|Thank you Alba Bo...| The great thing a...|2015-08-31 00:00:00|\n",
            "|         US|   19242472|R3LIDG2Q4LJBAO|B00HU6UQAG|     375449471|Elysee Infusion S...|          Beauty|          5|            0|          0|   N|                Y|          Five Stars| Great Product, I'...|2015-08-31 00:00:00|\n",
            "|         US|   19551372|R3KSZHPAEVPEAL|B002HWS7RM|     255651889|Diane D722 Color,...|          Beauty|          5|            0|          0|   N|                Y|          GOOD DEAL!| I use them as sho...|2015-08-31 00:00:00|\n",
            "|         US|   14802407| RAI2OIG50KZ43|B00SM99KWU|     116158747|Biore UV Aqua Ric...|          Beauty|          5|            0|          0|   N|                Y|this soaks in qui...| This is my go-to ...|2015-08-31 00:00:00|\n",
            "|         US|    2909389|R1R30FA4RB5P54|B000NYL1Z6|     166146615|Murad Clarifying ...|          Beauty|          4|            0|          0|   N|                Y|          Four Stars|                 Good|2015-08-31 00:00:00|\n",
            "|         US|   19397215|R30IJKCGJBGPJH|B001SYWTFG|     111742328|CoverGirl Queen C...|          Beauty|          5|            0|          0|   N|                Y|            Good buy| Great eyeliner, d...|2015-08-31 00:00:00|\n",
            "|         US|    3195210|R18GLJJPVQ1OVH|B005F2EVMQ|     255803087|Bifesta Mandom Ey...|          Beauty|          5|            0|          0|   N|                Y|          Five Stars|Best makeup remover！|2015-08-31 00:00:00|\n",
            "|         US|   52216383| R8TVYIJXLYJT0|B00M1SUW7K|     246816549|Can You Handlebar...|          Beauty|          5|            0|          0|   N|                Y|Tame the wild mus...| This is a great p...|2015-08-31 00:00:00|\n",
            "|         US|   10278216|R1CJGF6M3PVHEZ|B001KYQA1S|       9612905|Maybelline Great ...|          Beauty|          1|            0|          2|   N|                Y|but it's like hav...| I thought it woul...|2015-08-31 00:00:00|\n",
            "|         US|   24655453|R2A30ALEGLMCGN|B00SAQ9DZY|     292127037|12 New, High Qual...|          Beauty|          4|            1|          1|   N|                Y|        Good Product| These are great f...|2015-08-31 00:00:00|\n",
            "|         US|   30788223|R134GP1Y3EQZ1L|B00HFQQ0VU|     311309827|Waterpik Aquarius...|          Beauty|          5|            0|          0|   N|                Y| Optimum Oral Health| Just got this.  N...|2015-08-31 00:00:00|\n",
            "|         US|   11257536| R6CE3SOIUJGP4|B00PYL8MAA|     390030149|Proganix Agave Ne...|          Beauty|          4|            1|          1|   N|                N|   Love this cream !| Wish I had discov...|2015-08-31 00:00:00|\n",
            "|         US|   29605778|R37CDLQZUPDZVM|B00D9NV2D4|     794858888|         Shea Butter|          Beauty|          5|            0|          0|   N|                Y|It works so much ...| I bought this to ...|2015-08-31 00:00:00|\n",
            "|         US|   41238422|R1KH9XCK6GYT26|B008Y9M412|     874223919|Etude House Fresh...|          Beauty|          5|            0|          0|   N|                Y|          Five Stars| The tint is aweso...|2015-08-31 00:00:00|\n",
            "|         US|   23620123|R3I4BQ6654MQNA|B00FWXBLHG|     464001209|Vintage Lil' Spon...|          Beauty|          5|            1|          1|   N|                Y|Great product, fa...| I'm in love with ...|2015-08-31 00:00:00|\n",
            "|         US|   25564245|R3LUPG356F1D40|B003KL8CB0|     328680790|Jenna Jameson Hea...|          Beauty|          5|            3|          3|   N|                N|Does not smell ch...| I was given this ...|2015-08-31 00:00:00|\n",
            "|         US|     801375|R3HNVRTHL9S2ZB|B006R2LNV0|     620737389|Korean Cosmetics_...|          Beauty|          5|            0|          0|   N|                N|          Five Stars| Magical everybody...|2015-08-31 00:00:00|\n",
            "|         US|    9478730| R5HKL5RD4IUT8|B00SMIIR0W|     351973146|Schick Hydro Silk...|          Beauty|          5|            0|          0|   N|                Y|Love this Razor/T...| Works fantastic! ...|2015-08-31 00:00:00|\n",
            "|         US|   18418407|R37Z8NBTHPR853|B003UKKH6O|      10034795|Oral-B Vitality P...|          Beauty|          5|            0|          0|   N|                Y|          Five Stars| excellent battery...|2015-08-31 00:00:00|\n",
            "+-----------+-----------+--------------+----------+--------------+--------------------+----------------+-----------+-------------+-----------+----+-----------------+--------------------+---------------------+-------------------+\n",
            "only showing top 20 rows\n",
            "\n"
          ]
        }
      ]
    },
    {
      "cell_type": "code",
      "source": [
        "# Retrieve all the rows where the total_votes count is equal to or greater than 20\n",
        "votes_df = df.filter(\"total_votes>=20\")\n",
        "votes_df.show()"
      ],
      "metadata": {
        "colab": {
          "base_uri": "https://localhost:8080/"
        },
        "id": "X9vRALJePpmh",
        "outputId": "37e9a53e-9999-4088-aeee-782b3648c7dd"
      },
      "execution_count": 4,
      "outputs": [
        {
          "output_type": "stream",
          "name": "stdout",
          "text": [
            "+-----------+-----------+--------------+----------+--------------+--------------------+----------------+-----------+-------------+-----------+----+-----------------+--------------------+--------------------+-------------------+\n",
            "|marketplace|customer_id|     review_id|product_id|product_parent|       product_title|product_category|star_rating|helpful_votes|total_votes|vine|verified_purchase|     review_headline|         review_body|        review_date|\n",
            "+-----------+-----------+--------------+----------+--------------+--------------------+----------------+-----------+-------------+-----------+----+-----------------+--------------------+--------------------+-------------------+\n",
            "|         US|   22393078|R2QRUE9REK8OUC|B00461F4PA|     608719013|Baby Foot Exfolia...|          Beauty|          5|           18|         23|   N|                Y|Better Than Any Pedi|First off, I'll s...|2015-08-31 00:00:00|\n",
            "|         US|   46053231|R2POXRW6PXHXZG|B00OCJZ0GE|     717345177|Bed Head Little T...|          Beauty|          5|           25|         30|   N|                Y|       Great Crimper|This is a great c...|2015-08-31 00:00:00|\n",
            "|         US|   31499430| RZN43XRZ89IIJ|B00VOK0V7M|     629138408|Stretch Mark & Sc...|          Beauty|          3|           10|         27|   N|                N|Very questionable...|Looking at this p...|2015-08-31 00:00:00|\n",
            "|         US|   27682058|R29Q748WSHZ3SN|B001V9LQ0W|      44090072|AVEENO ACTIVE NAT...|          Beauty|          5|           23|         24|   N|                Y|Best hair restore...|This is fabulous ...|2015-08-31 00:00:00|\n",
            "|         US|     333848| R46UL5G5HEPRZ|B00SX6XABO|     899819396|SnoreShield™ Adju...|          Beauty|          5|           18|         20|   N|                N|SnoreShield is aw...|I bought this ant...|2015-08-31 00:00:00|\n",
            "|         US|   12553981|R2UQHSNWU6WTZX|B00HAT8EKW|     136225014|Moroccan Oil Sham...|          Beauty|          5|           74|         76|   N|                N|Love what the sha...|I love what both ...|2015-08-31 00:00:00|\n",
            "|         US|   15257586|R2HSRI3D6E2M9Y|B004WOSOA8|     160713618|Vasocaine Numbing...|          Beauty|          5|           69|         71|   N|                Y|Best tattoo Spray...|Best tattoo Spray...|2015-08-31 00:00:00|\n",
            "|         US|   19276831|R17ARFSDV555EW|B005WWQXB6|     807009289|Wet Brush Origina...|          Beauty|          1|           29|         29|   N|                Y|Better Than That ...|**Update!! Counte...|2015-08-31 00:00:00|\n",
            "|         US|   42235766|R3GL5156FFEDQA|B000VPPUEA|     834747871|Bio-Oil Multiuse ...|          Beauty|          5|           20|         21|   N|                Y|This product works!!|This works!  Afte...|2015-08-31 00:00:00|\n",
            "|         US|   30423413|R29KQJC9PIYWQS|B00V8PP7WC|      10772213|50, Clear, Empty,...|          Beauty|          5|           25|         26|   N|                Y|             Perfect|Work exactly as e...|2015-08-31 00:00:00|\n",
            "|         US|   47837987| RYWUJT2A33VJH|B004VJ56AK|     495619476|Clarisonic Opal S...|          Beauty|          5|           20|         22|   N|                N|Her surgery was a...|I have had my Opa...|2015-08-31 00:00:00|\n",
            "|         US|     314244|R1KH5L45CWI30I|B00SX6XABO|     899819396|SnoreShield™ Adju...|          Beauty|          5|           19|         20|   N|                N|      Give it a try!|One of my friend ...|2015-08-31 00:00:00|\n",
            "|         US|    1407203|R1RKEBF47UEIVH|B00COGVWV4|     845309451|8 Lots Mix Color ...|          Beauty|          5|           26|         30|   N|                N|          Five Stars|Love it! Little h...|2015-08-31 00:00:00|\n",
            "|         US|   42404264|R3N1SCGIU1LV1U|B00NK65R5O|     966582870|Best Anti Aging F...|          Beauty|          1|            2|         20|   N|                Y|            One Star|   Gift don't know.!|2015-08-31 00:00:00|\n",
            "|         US|    2659185|R2WIB8BHF77XIG|B005G4YCHW|     269969003|Nature Made Prena...|          Beauty|          4|           69|         78|   N|                N| I liked these pills|I liked these pil...|2015-08-31 00:00:00|\n",
            "|         US|   25415510|R20T4C0DA38YBD|B00ZORY924|     247229663|Gellen Temperatur...|          Beauty|          5|           22|         23|   N|                Y|IN LOVE! I was wo...|IN LOVE! I was wo...|2015-08-31 00:00:00|\n",
            "|         US|    1094446| REUKY9DLNJXYF|B0084PXVX6|     236774785|Raw Unrefined Ivo...|          Beauty|          4|           21|         22|   N|                Y|       great product|I really love thi...|2015-08-31 00:00:00|\n",
            "|         US|   23645612|R2OH5QLD7MGJTG|B0027VCNGO|      24106546|Seche Vite Dry Fa...|          Beauty|          5|           48|         48|   N|                Y| BEST top coat EVER!|I take my nail re...|2015-08-31 00:00:00|\n",
            "|         US|   10721966|R179M7NOS1365W|B00OGUB23E|     638245716|Alina Skin Care V...|          Beauty|          5|           88|         91|   N|                Y|          Five Stars|                Good|2015-08-31 00:00:00|\n",
            "|         US|   50463744|R2NPNCGM6T1JBA|B0076Q7WH0|     966701049|PURA D'OR Argan O...|          Beauty|          3|          253|        259|   N|                Y|Beware of fake re...|The main reason I...|2015-08-31 00:00:00|\n",
            "+-----------+-----------+--------------+----------+--------------+--------------------+----------------+-----------+-------------+-----------+----+-----------------+--------------------+--------------------+-------------------+\n",
            "only showing top 20 rows\n",
            "\n"
          ]
        }
      ]
    },
    {
      "cell_type": "code",
      "source": [
        "helpfulVotes_df = votes_df.filter(\"helpful_votes/total_votes>=0.5\")\n",
        "helpfulVotes_df.show()"
      ],
      "metadata": {
        "colab": {
          "base_uri": "https://localhost:8080/"
        },
        "id": "Es5fSD9jSHwS",
        "outputId": "fc23320b-1309-4999-b3e3-508f5e586211"
      },
      "execution_count": 7,
      "outputs": [
        {
          "output_type": "stream",
          "name": "stdout",
          "text": [
            "+-----------+-----------+--------------+----------+--------------+--------------------+----------------+-----------+-------------+-----------+----+-----------------+--------------------+--------------------+-------------------+\n",
            "|marketplace|customer_id|     review_id|product_id|product_parent|       product_title|product_category|star_rating|helpful_votes|total_votes|vine|verified_purchase|     review_headline|         review_body|        review_date|\n",
            "+-----------+-----------+--------------+----------+--------------+--------------------+----------------+-----------+-------------+-----------+----+-----------------+--------------------+--------------------+-------------------+\n",
            "|         US|   22393078|R2QRUE9REK8OUC|B00461F4PA|     608719013|Baby Foot Exfolia...|          Beauty|          5|           18|         23|   N|                Y|Better Than Any Pedi|First off, I'll s...|2015-08-31 00:00:00|\n",
            "|         US|   46053231|R2POXRW6PXHXZG|B00OCJZ0GE|     717345177|Bed Head Little T...|          Beauty|          5|           25|         30|   N|                Y|       Great Crimper|This is a great c...|2015-08-31 00:00:00|\n",
            "|         US|   27682058|R29Q748WSHZ3SN|B001V9LQ0W|      44090072|AVEENO ACTIVE NAT...|          Beauty|          5|           23|         24|   N|                Y|Best hair restore...|This is fabulous ...|2015-08-31 00:00:00|\n",
            "|         US|     333848| R46UL5G5HEPRZ|B00SX6XABO|     899819396|SnoreShield™ Adju...|          Beauty|          5|           18|         20|   N|                N|SnoreShield is aw...|I bought this ant...|2015-08-31 00:00:00|\n",
            "|         US|   12553981|R2UQHSNWU6WTZX|B00HAT8EKW|     136225014|Moroccan Oil Sham...|          Beauty|          5|           74|         76|   N|                N|Love what the sha...|I love what both ...|2015-08-31 00:00:00|\n",
            "|         US|   15257586|R2HSRI3D6E2M9Y|B004WOSOA8|     160713618|Vasocaine Numbing...|          Beauty|          5|           69|         71|   N|                Y|Best tattoo Spray...|Best tattoo Spray...|2015-08-31 00:00:00|\n",
            "|         US|   19276831|R17ARFSDV555EW|B005WWQXB6|     807009289|Wet Brush Origina...|          Beauty|          1|           29|         29|   N|                Y|Better Than That ...|**Update!! Counte...|2015-08-31 00:00:00|\n",
            "|         US|   42235766|R3GL5156FFEDQA|B000VPPUEA|     834747871|Bio-Oil Multiuse ...|          Beauty|          5|           20|         21|   N|                Y|This product works!!|This works!  Afte...|2015-08-31 00:00:00|\n",
            "|         US|   30423413|R29KQJC9PIYWQS|B00V8PP7WC|      10772213|50, Clear, Empty,...|          Beauty|          5|           25|         26|   N|                Y|             Perfect|Work exactly as e...|2015-08-31 00:00:00|\n",
            "|         US|   47837987| RYWUJT2A33VJH|B004VJ56AK|     495619476|Clarisonic Opal S...|          Beauty|          5|           20|         22|   N|                N|Her surgery was a...|I have had my Opa...|2015-08-31 00:00:00|\n",
            "|         US|     314244|R1KH5L45CWI30I|B00SX6XABO|     899819396|SnoreShield™ Adju...|          Beauty|          5|           19|         20|   N|                N|      Give it a try!|One of my friend ...|2015-08-31 00:00:00|\n",
            "|         US|    1407203|R1RKEBF47UEIVH|B00COGVWV4|     845309451|8 Lots Mix Color ...|          Beauty|          5|           26|         30|   N|                N|          Five Stars|Love it! Little h...|2015-08-31 00:00:00|\n",
            "|         US|    2659185|R2WIB8BHF77XIG|B005G4YCHW|     269969003|Nature Made Prena...|          Beauty|          4|           69|         78|   N|                N| I liked these pills|I liked these pil...|2015-08-31 00:00:00|\n",
            "|         US|   25415510|R20T4C0DA38YBD|B00ZORY924|     247229663|Gellen Temperatur...|          Beauty|          5|           22|         23|   N|                Y|IN LOVE! I was wo...|IN LOVE! I was wo...|2015-08-31 00:00:00|\n",
            "|         US|    1094446| REUKY9DLNJXYF|B0084PXVX6|     236774785|Raw Unrefined Ivo...|          Beauty|          4|           21|         22|   N|                Y|       great product|I really love thi...|2015-08-31 00:00:00|\n",
            "|         US|   23645612|R2OH5QLD7MGJTG|B0027VCNGO|      24106546|Seche Vite Dry Fa...|          Beauty|          5|           48|         48|   N|                Y| BEST top coat EVER!|I take my nail re...|2015-08-31 00:00:00|\n",
            "|         US|   10721966|R179M7NOS1365W|B00OGUB23E|     638245716|Alina Skin Care V...|          Beauty|          5|           88|         91|   N|                Y|          Five Stars|                Good|2015-08-31 00:00:00|\n",
            "|         US|   50463744|R2NPNCGM6T1JBA|B0076Q7WH0|     966701049|PURA D'OR Argan O...|          Beauty|          3|          253|        259|   N|                Y|Beware of fake re...|The main reason I...|2015-08-31 00:00:00|\n",
            "|         US|   14798919|R345Z1BTFABFY0|B001E8WBP4|     981173576|Alpha Hydrox Eye ...|          Beauty|          1|           19|         22|   N|                Y|            One Star|GOOD TIME SHIPPIN...|2015-08-31 00:00:00|\n",
            "|         US|   39761005|R2Z6FGGU3VNCT2|B00CHHJXYI|      55559071|Simple Cleansing ...|          Beauty|          1|           41|         46|   N|                N|NOT FOR SENSITIVE...|I used these and ...|2015-08-31 00:00:00|\n",
            "+-----------+-----------+--------------+----------+--------------+--------------------+----------------+-----------+-------------+-----------+----+-----------------+--------------------+--------------------+-------------------+\n",
            "only showing top 20 rows\n",
            "\n"
          ]
        }
      ]
    },
    {
      "cell_type": "code",
      "source": [
        "vineYes_df = helpfulVotes_df.filter(\"vine=='Y'\")\n",
        "vineYes_df.show()"
      ],
      "metadata": {
        "colab": {
          "base_uri": "https://localhost:8080/"
        },
        "id": "tPLQK_1fSphl",
        "outputId": "8e014f5e-9507-4bd3-d8a7-10f474f60972"
      },
      "execution_count": 10,
      "outputs": [
        {
          "output_type": "stream",
          "name": "stdout",
          "text": [
            "+-----------+-----------+--------------+----------+--------------+--------------------+----------------+-----------+-------------+-----------+----+-----------------+--------------------+--------------------+-------------------+\n",
            "|marketplace|customer_id|     review_id|product_id|product_parent|       product_title|product_category|star_rating|helpful_votes|total_votes|vine|verified_purchase|     review_headline|         review_body|        review_date|\n",
            "+-----------+-----------+--------------+----------+--------------+--------------------+----------------+-----------+-------------+-----------+----+-----------------+--------------------+--------------------+-------------------+\n",
            "|         US|   47770601|R106V6GUNWRSSS|B00YAR86BY|     136411552|Philips Sonicare ...|          Beauty|          5|          857|        889|   Y|                N|Improved build, g...|According to spec...|2015-08-27 00:00:00|\n",
            "|         US|   52846213|R37N8KZS48W36A|B00YJJXJ06|     791197070|Maybelline New Yo...|          Beauty|          5|           36|         37|   Y|                N|See pictures comp...|I am a Lancôme pr...|2015-08-26 00:00:00|\n",
            "|         US|   52833354|R1LNEQ2MQE03PD|B00YAR86BY|     136411552|Philips Sonicare ...|          Beauty|          5|           49|         66|   Y|                N|Super performance...|I've been using a...|2015-08-24 00:00:00|\n",
            "|         US|   15209903|R1ECPWPUNK36ES|B00TTZEFUI|     398213708|Vidal Sassoon Hot...|          Beauty|          5|           29|         31|   Y|                N|Excellent Blower-...|Looking for a blo...|2015-08-23 00:00:00|\n",
            "|         US|   24874450|R16BUM7UQZLOM6|B00QZ67KBK|       8891203|Philips Sonicare ...|          Beauty|          3|          107|        112|   Y|                N|Stick with the st...|Let me just start...|2015-08-19 00:00:00|\n",
            "|         US|   42689422| R7NWIOCA5RVPR|B00MMRFUG8|     127431946|Remington D3190A ...|          Beauty|          5|           19|         26|   Y|                N|Love the \"cool sh...|Let me start with...|2015-08-15 00:00:00|\n",
            "|         US|   51923814|R3NTGOCUZB33JK|B00YAR7ZL6|     776298388|Philips Sonicare ...|          Beauty|          5|           40|         47|   Y|                Y|Brushing Goes Bet...|If you are alread...|2015-08-11 00:00:00|\n",
            "|         US|   52532594| RQX3RHGMG7UBN|B00MMRFUG8|     127431946|Remington D3190A ...|          Beauty|          5|          186|        200|   Y|                N|This hairdryer ha...|(UPDATE 10/13/16 ...|2015-08-09 00:00:00|\n",
            "|         US|   15609090|R3E6QYKZDST042|B00TTZEFUI|     398213708|Vidal Sassoon Hot...|          Beauty|          4|           33|         39|   Y|                N|Curl Release Butt...|I had a hot air b...|2015-08-03 00:00:00|\n",
            "|         US|   51800663|R2GR106PWUN85O|B00YXXQF22|     746299197|Curel Itch Defens...|          Beauty|          4|           36|         39|   Y|                N|Itchy, itchy, scr...|Everyone has a ta...|2015-07-29 00:00:00|\n",
            "|         US|   49600435| R5AJK8HCOKXV5|B00HVNYIFW|     166207016|Pre de Provence S...|          Beauty|          4|           20|         23|   Y|                N|A Rose by Any Oth...|That's some copy ...|2015-07-25 00:00:00|\n",
            "|         US|   52587452| RCHD0PMJO6Y52|B00Q23KDOM|     594835562|Jergens Natural G...|          Beauty|          3|           17|         20|   Y|                N|A crime against n...|First off, it's i...|2015-07-25 00:00:00|\n",
            "|         US|   45260241|R1AF6ANE5JFP4D|B00YAR7ZL6|     776298388|Philips Sonicare ...|          Beauty|          5|           50|         55|   Y|                N|Succeeds brillian...|I use a sonicare ...|2015-07-21 00:00:00|\n",
            "|         US|   16606481|R2FKVTMWD52KEY|B00UKP1M2K|     995218273|Maybelline New Yo...|          Beauty|          4|          265|        276|   Y|                N|Not bad, just ste...|This is not a hig...|2015-07-10 00:00:00|\n",
            "|         US|   51744990| RZUT8OQAGWOYE|B00PFEFEAC|      77715070|L'Oreal Paris Sub...|          Beauty|          5|           46|         49|   Y|                N|Small Bottle Big Tan|I am quite impres...|2015-07-02 00:00:00|\n",
            "|         US|   13610125| RW89H46BTJJWI|B00TI6TSLO|     158835237|Proactiv+ Emergen...|          Beauty|          2|           20|         20|   Y|                N|        Does Nothing|I gave this to my...|2015-06-28 00:00:00|\n",
            "|         US|   51663540| RQ0N3J1IZKGMA|B00TI6TSLO|     158835237|Proactiv+ Emergen...|          Beauty|          1|           63|         63|   Y|                N| No improvement seen|I've used Proacti...|2015-06-27 00:00:00|\n",
            "|         US|   30445854|R1Z88KA5VANTXS|B00WB84IRU|     763374312|Alba Botanica Haw...|          Beauty|          2|           42|         47|   Y|                N|It seems to perfo...|We received a can...|2015-06-15 00:00:00|\n",
            "|         US|   36825966|R3M9NW8LPEKTWX|B00PFU5GXG|     694113541|TheraBreath PLUS ...|          Beauty|          5|           20|         21|   Y|                Y|HOORAY! I have a ...|UPDATE:  After st...|2015-06-12 00:00:00|\n",
            "|         US|   48393616|R16QHBYJJ01R4P|B00PFEFEAC|      77715070|L'Oreal Paris Sub...|          Beauty|          5|           23|         24|   Y|                N|I won't use any o...|Here is what I re...|2015-06-12 00:00:00|\n",
            "+-----------+-----------+--------------+----------+--------------+--------------------+----------------+-----------+-------------+-----------+----+-----------------+--------------------+--------------------+-------------------+\n",
            "only showing top 20 rows\n",
            "\n"
          ]
        }
      ]
    },
    {
      "cell_type": "code",
      "source": [
        "vineNo_df = helpfulVotes_df.filter(\"vine=='N'\")\n",
        "vineNo_df.show()"
      ],
      "metadata": {
        "colab": {
          "base_uri": "https://localhost:8080/"
        },
        "id": "HpIwDzN9TH4x",
        "outputId": "ee61a458-ad0f-4387-b63e-4b75536eb721"
      },
      "execution_count": 11,
      "outputs": [
        {
          "output_type": "stream",
          "name": "stdout",
          "text": [
            "+-----------+-----------+--------------+----------+--------------+--------------------+----------------+-----------+-------------+-----------+----+-----------------+--------------------+--------------------+-------------------+\n",
            "|marketplace|customer_id|     review_id|product_id|product_parent|       product_title|product_category|star_rating|helpful_votes|total_votes|vine|verified_purchase|     review_headline|         review_body|        review_date|\n",
            "+-----------+-----------+--------------+----------+--------------+--------------------+----------------+-----------+-------------+-----------+----+-----------------+--------------------+--------------------+-------------------+\n",
            "|         US|   22393078|R2QRUE9REK8OUC|B00461F4PA|     608719013|Baby Foot Exfolia...|          Beauty|          5|           18|         23|   N|                Y|Better Than Any Pedi|First off, I'll s...|2015-08-31 00:00:00|\n",
            "|         US|   46053231|R2POXRW6PXHXZG|B00OCJZ0GE|     717345177|Bed Head Little T...|          Beauty|          5|           25|         30|   N|                Y|       Great Crimper|This is a great c...|2015-08-31 00:00:00|\n",
            "|         US|   27682058|R29Q748WSHZ3SN|B001V9LQ0W|      44090072|AVEENO ACTIVE NAT...|          Beauty|          5|           23|         24|   N|                Y|Best hair restore...|This is fabulous ...|2015-08-31 00:00:00|\n",
            "|         US|     333848| R46UL5G5HEPRZ|B00SX6XABO|     899819396|SnoreShield™ Adju...|          Beauty|          5|           18|         20|   N|                N|SnoreShield is aw...|I bought this ant...|2015-08-31 00:00:00|\n",
            "|         US|   12553981|R2UQHSNWU6WTZX|B00HAT8EKW|     136225014|Moroccan Oil Sham...|          Beauty|          5|           74|         76|   N|                N|Love what the sha...|I love what both ...|2015-08-31 00:00:00|\n",
            "|         US|   15257586|R2HSRI3D6E2M9Y|B004WOSOA8|     160713618|Vasocaine Numbing...|          Beauty|          5|           69|         71|   N|                Y|Best tattoo Spray...|Best tattoo Spray...|2015-08-31 00:00:00|\n",
            "|         US|   19276831|R17ARFSDV555EW|B005WWQXB6|     807009289|Wet Brush Origina...|          Beauty|          1|           29|         29|   N|                Y|Better Than That ...|**Update!! Counte...|2015-08-31 00:00:00|\n",
            "|         US|   42235766|R3GL5156FFEDQA|B000VPPUEA|     834747871|Bio-Oil Multiuse ...|          Beauty|          5|           20|         21|   N|                Y|This product works!!|This works!  Afte...|2015-08-31 00:00:00|\n",
            "|         US|   30423413|R29KQJC9PIYWQS|B00V8PP7WC|      10772213|50, Clear, Empty,...|          Beauty|          5|           25|         26|   N|                Y|             Perfect|Work exactly as e...|2015-08-31 00:00:00|\n",
            "|         US|   47837987| RYWUJT2A33VJH|B004VJ56AK|     495619476|Clarisonic Opal S...|          Beauty|          5|           20|         22|   N|                N|Her surgery was a...|I have had my Opa...|2015-08-31 00:00:00|\n",
            "|         US|     314244|R1KH5L45CWI30I|B00SX6XABO|     899819396|SnoreShield™ Adju...|          Beauty|          5|           19|         20|   N|                N|      Give it a try!|One of my friend ...|2015-08-31 00:00:00|\n",
            "|         US|    1407203|R1RKEBF47UEIVH|B00COGVWV4|     845309451|8 Lots Mix Color ...|          Beauty|          5|           26|         30|   N|                N|          Five Stars|Love it! Little h...|2015-08-31 00:00:00|\n",
            "|         US|    2659185|R2WIB8BHF77XIG|B005G4YCHW|     269969003|Nature Made Prena...|          Beauty|          4|           69|         78|   N|                N| I liked these pills|I liked these pil...|2015-08-31 00:00:00|\n",
            "|         US|   25415510|R20T4C0DA38YBD|B00ZORY924|     247229663|Gellen Temperatur...|          Beauty|          5|           22|         23|   N|                Y|IN LOVE! I was wo...|IN LOVE! I was wo...|2015-08-31 00:00:00|\n",
            "|         US|    1094446| REUKY9DLNJXYF|B0084PXVX6|     236774785|Raw Unrefined Ivo...|          Beauty|          4|           21|         22|   N|                Y|       great product|I really love thi...|2015-08-31 00:00:00|\n",
            "|         US|   23645612|R2OH5QLD7MGJTG|B0027VCNGO|      24106546|Seche Vite Dry Fa...|          Beauty|          5|           48|         48|   N|                Y| BEST top coat EVER!|I take my nail re...|2015-08-31 00:00:00|\n",
            "|         US|   10721966|R179M7NOS1365W|B00OGUB23E|     638245716|Alina Skin Care V...|          Beauty|          5|           88|         91|   N|                Y|          Five Stars|                Good|2015-08-31 00:00:00|\n",
            "|         US|   50463744|R2NPNCGM6T1JBA|B0076Q7WH0|     966701049|PURA D'OR Argan O...|          Beauty|          3|          253|        259|   N|                Y|Beware of fake re...|The main reason I...|2015-08-31 00:00:00|\n",
            "|         US|   14798919|R345Z1BTFABFY0|B001E8WBP4|     981173576|Alpha Hydrox Eye ...|          Beauty|          1|           19|         22|   N|                Y|            One Star|GOOD TIME SHIPPIN...|2015-08-31 00:00:00|\n",
            "|         US|   39761005|R2Z6FGGU3VNCT2|B00CHHJXYI|      55559071|Simple Cleansing ...|          Beauty|          1|           41|         46|   N|                N|NOT FOR SENSITIVE...|I used these and ...|2015-08-31 00:00:00|\n",
            "+-----------+-----------+--------------+----------+--------------+--------------------+----------------+-----------+-------------+-----------+----+-----------------+--------------------+--------------------+-------------------+\n",
            "only showing top 20 rows\n",
            "\n"
          ]
        }
      ]
    },
    {
      "cell_type": "code",
      "source": [
        "# Import functions\n",
        "from pyspark.sql.functions import count\n",
        "# Determine the total number of paid reviews\n",
        "vineYes_df.select(count(\"review_id\")).show()"
      ],
      "metadata": {
        "colab": {
          "base_uri": "https://localhost:8080/"
        },
        "id": "n8OZ61fITeoc",
        "outputId": "ded4450c-ef7f-4893-f96a-ab50ece7edf4"
      },
      "execution_count": 17,
      "outputs": [
        {
          "output_type": "stream",
          "name": "stdout",
          "text": [
            "+----------------+\n",
            "|count(review_id)|\n",
            "+----------------+\n",
            "|             647|\n",
            "+----------------+\n",
            "\n"
          ]
        }
      ]
    },
    {
      "cell_type": "code",
      "source": [
        "# Determine the total number of unpaid reviews\n",
        "vineNo_df.select(count(\"review_id\")).show()"
      ],
      "metadata": {
        "colab": {
          "base_uri": "https://localhost:8080/"
        },
        "id": "znQ13bfQUIdd",
        "outputId": "fd303425-108a-4d0d-b9b4-8dc8254d4fbc"
      },
      "execution_count": 18,
      "outputs": [
        {
          "output_type": "stream",
          "name": "stdout",
          "text": [
            "+----------------+\n",
            "|count(review_id)|\n",
            "+----------------+\n",
            "|           74113|\n",
            "+----------------+\n",
            "\n"
          ]
        }
      ]
    },
    {
      "cell_type": "code",
      "source": [
        "# Determine the the number of 5-star paid reviews\n",
        "fiveStarPaid_reviews = vineYes_df.filter(\"star_rating==5\").select(count(\"star_rating\")).show()"
      ],
      "metadata": {
        "colab": {
          "base_uri": "https://localhost:8080/"
        },
        "id": "fXQnvfj3UL68",
        "outputId": "e91e9eda-2a2b-4b31-b3d1-97f93e1af96a"
      },
      "execution_count": 23,
      "outputs": [
        {
          "output_type": "stream",
          "name": "stdout",
          "text": [
            "+------------------+\n",
            "|count(star_rating)|\n",
            "+------------------+\n",
            "|               229|\n",
            "+------------------+\n",
            "\n"
          ]
        }
      ]
    },
    {
      "cell_type": "code",
      "source": [
        "# Determine the the number of 5-star unpaid reviews\n",
        "fiveStarUnpaid_reviews = vineNo_df.filter(\"star_rating==5\").select(count(\"star_rating\")).show()"
      ],
      "metadata": {
        "colab": {
          "base_uri": "https://localhost:8080/"
        },
        "id": "SdnZRwxTUQu6",
        "outputId": "6988da02-9306-4980-cdc5-0a34459a8ba4"
      },
      "execution_count": 24,
      "outputs": [
        {
          "output_type": "stream",
          "name": "stdout",
          "text": [
            "+------------------+\n",
            "|count(star_rating)|\n",
            "+------------------+\n",
            "|             43217|\n",
            "+------------------+\n",
            "\n"
          ]
        }
      ]
    },
    {
      "cell_type": "code",
      "source": [
        "# Determine the percentage of 5-star paid reviews\n",
        "#starRating_count = vineYes_df.select(count(\"star_rating\"))\n",
        "percentage_paid = float(229) / float(647)\n",
        "percentage_paid\n"
      ],
      "metadata": {
        "colab": {
          "base_uri": "https://localhost:8080/"
        },
        "id": "8uzP5x4sUSfp",
        "outputId": "20c05b8c-acbd-418f-e006-c4755207f417"
      },
      "execution_count": 38,
      "outputs": [
        {
          "output_type": "execute_result",
          "data": {
            "text/plain": [
              "0.35394126738794435"
            ]
          },
          "metadata": {},
          "execution_count": 38
        }
      ]
    },
    {
      "cell_type": "code",
      "source": [
        "# Determine the percentage of 5-star unpaid reviews\n",
        "percentage_unpaid = float(43217) / float(74113)\n",
        "percentage_unpaid"
      ],
      "metadata": {
        "colab": {
          "base_uri": "https://localhost:8080/"
        },
        "id": "8jPWb6GfUa_n",
        "outputId": "4a3719ad-74de-46c0-ff11-0640cec686c1"
      },
      "execution_count": 39,
      "outputs": [
        {
          "output_type": "execute_result",
          "data": {
            "text/plain": [
              "0.5831230688273312"
            ]
          },
          "metadata": {},
          "execution_count": 39
        }
      ]
    }
  ]
}